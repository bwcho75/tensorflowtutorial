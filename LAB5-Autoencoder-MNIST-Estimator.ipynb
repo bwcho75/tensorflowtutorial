{
 "cells": [
  {
   "cell_type": "code",
   "execution_count": 1,
   "metadata": {},
   "outputs": [
    {
     "name": "stdout",
     "output_type": "stream",
     "text": [
      "INFO:tensorflow:Using config: {'_save_checkpoints_secs': 180, '_num_ps_replicas': 0, '_keep_checkpoint_max': 5, '_task_type': None, '_is_chief': True, '_cluster_spec': <tensorflow.python.training.server_lib.ClusterSpec object at 0x11ba72590>, '_model_dir': '/tmp/trained_model', '_save_checkpoints_steps': None, '_keep_checkpoint_every_n_hours': 10000, '_session_config': None, '_tf_random_seed': None, '_save_summary_steps': 100, '_environment': 'local', '_num_worker_replicas': 0, '_task_id': 0, '_log_step_count_steps': 100, '_tf_config': gpu_options {\n",
      "  per_process_gpu_memory_fraction: 1\n",
      "}\n",
      ", '_evaluation_master': '', '_master': ''}\n",
      "WARNING:tensorflow:From /Users/terrycho/anaconda/envs/tensorflow13/lib/python2.7/site-packages/tensorflow/contrib/learn/python/learn/monitors.py:269: __init__ (from tensorflow.contrib.learn.python.learn.monitors) is deprecated and will be removed after 2016-12-05.\n",
      "Instructions for updating:\n",
      "Monitors are deprecated. Please use tf.train.SessionRunHook.\n",
      "INFO:tensorflow:Create CheckpointSaverHook.\n",
      "INFO:tensorflow:Saving checkpoints for 1 into /tmp/trained_model/model.ckpt.\n",
      "INFO:tensorflow:Starting evaluation at 2017-10-18-15:12:06\n",
      "INFO:tensorflow:Restoring parameters from /tmp/trained_model/model.ckpt-1\n",
      "INFO:tensorflow:Evaluation [1/1]\n",
      "INFO:tensorflow:Finished evaluation at 2017-10-18-15:12:06\n",
      "INFO:tensorflow:Saving dict for global step 1: global_step = 1, loss = 18087.9\n",
      "INFO:tensorflow:Validation (step 1): loss = 18087.9, global_step = 1\n",
      "INFO:tensorflow:loss = 18182.4, step = 1\n",
      "INFO:tensorflow:global_step/sec: 33.2293\n",
      "INFO:tensorflow:loss = 4315.07, step = 101 (1.720 sec)\n",
      "INFO:tensorflow:global_step/sec: 53.6696\n",
      "INFO:tensorflow:loss = 3375.12, step = 201 (1.863 sec)\n",
      "INFO:tensorflow:global_step/sec: 55.9626\n",
      "INFO:tensorflow:loss = 2873.55, step = 301 (1.787 sec)\n",
      "INFO:tensorflow:global_step/sec: 60.7144\n",
      "INFO:tensorflow:loss = 2259.72, step = 401 (1.646 sec)\n",
      "INFO:tensorflow:global_step/sec: 63.6562\n",
      "INFO:tensorflow:loss = 2049.2, step = 501 (1.571 sec)\n",
      "INFO:tensorflow:global_step/sec: 61.7528\n",
      "INFO:tensorflow:loss = 1818.41, step = 601 (1.620 sec)\n",
      "INFO:tensorflow:global_step/sec: 56.853\n",
      "INFO:tensorflow:loss = 1660.74, step = 701 (1.759 sec)\n",
      "INFO:tensorflow:global_step/sec: 55.2484\n",
      "INFO:tensorflow:loss = 1679.01, step = 801 (1.809 sec)\n",
      "INFO:tensorflow:global_step/sec: 63.2956\n",
      "INFO:tensorflow:loss = 1717.35, step = 901 (1.580 sec)\n",
      "INFO:tensorflow:global_step/sec: 60.7527\n",
      "INFO:tensorflow:loss = 1467.9, step = 1001 (1.646 sec)\n",
      "INFO:tensorflow:global_step/sec: 59.5112\n",
      "INFO:tensorflow:loss = 1438.32, step = 1101 (1.681 sec)\n",
      "INFO:tensorflow:global_step/sec: 60.7612\n",
      "INFO:tensorflow:loss = 1350.58, step = 1201 (1.646 sec)\n",
      "INFO:tensorflow:global_step/sec: 59.3125\n",
      "INFO:tensorflow:loss = 1349.11, step = 1301 (1.686 sec)\n",
      "INFO:tensorflow:global_step/sec: 60.4987\n",
      "INFO:tensorflow:loss = 1332.47, step = 1401 (1.653 sec)\n",
      "INFO:tensorflow:global_step/sec: 60.5091\n",
      "INFO:tensorflow:loss = 1414.59, step = 1501 (1.652 sec)\n",
      "INFO:tensorflow:global_step/sec: 57.2462\n",
      "INFO:tensorflow:loss = 1304.38, step = 1601 (1.747 sec)\n",
      "INFO:tensorflow:global_step/sec: 59.8923\n",
      "INFO:tensorflow:loss = 1234.28, step = 1701 (1.669 sec)\n",
      "INFO:tensorflow:global_step/sec: 58.8545\n",
      "INFO:tensorflow:loss = 1187.16, step = 1801 (1.699 sec)\n",
      "INFO:tensorflow:global_step/sec: 57.2806\n",
      "INFO:tensorflow:loss = 1157.84, step = 1901 (1.746 sec)\n",
      "INFO:tensorflow:Saving checkpoints for 2000 into /tmp/trained_model/model.ckpt.\n",
      "INFO:tensorflow:Loss for final step: 1443.01.\n",
      "INFO:tensorflow:Starting evaluation at 2017-10-18-15:12:41\n",
      "INFO:tensorflow:Restoring parameters from /tmp/trained_model/model.ckpt-2000\n",
      "INFO:tensorflow:Evaluation [1/1]\n",
      "INFO:tensorflow:Finished evaluation at 2017-10-18-15:12:42\n",
      "INFO:tensorflow:Saving dict for global step 2000: global_step = 2000, loss = 1235.96\n",
      "INFO:tensorflow:Restoring parameters from /tmp/trained_model/model.ckpt-2000\n",
      "INFO:tensorflow:Assets added to graph.\n",
      "INFO:tensorflow:No assets to write.\n",
      "INFO:tensorflow:SavedModel written to: /tmp/trained_model/export/Servo/1508339562/saved_model.pb\n"
     ]
    },
    {
     "data": {
      "text/plain": [
       "({'global_step': 2000, 'loss': 1235.9563},\n",
       " ['/tmp/trained_model/export/Servo/1508339562'])"
      ]
     },
     "execution_count": 1,
     "metadata": {},
     "output_type": "execute_result"
    }
   ],
   "source": [
    "#original code https://github.com/enakai00/autoencoder_example\n",
    "\n",
    "import tensorflow as tf\n",
    "import os,shutil\n",
    "import matplotlib.pyplot as plt\n",
    "import numpy as np\n",
    "from tensorflow.python.estimator.model_fn import ModeKeys as Modes\n",
    "from tensorflow.contrib.learn import Experiment\n",
    "from tensorflow.contrib.learn.python.learn import learn_runner\n",
    "from tensorflow.contrib.learn.python.learn.utils import (saved_model_export_utils)\n",
    "\n",
    "tf.logging.set_verbosity(tf.logging.INFO)\n",
    "\n",
    "OUTDIR='/tmp/trained_model'\n",
    "\n",
    "#\n",
    "# definining queue\n",
    "#\n",
    "def read_and_decode(filename_queue):\n",
    "    reader = tf.TFRecordReader()\n",
    "    _,serialized_example = reader.read(filename_queue)\n",
    "    \n",
    "    features = tf.parse_single_example(\n",
    "        serialized_example,\n",
    "        features={\n",
    "            'image_raw':tf.FixedLenFeature([],tf.string),\n",
    "            'label':tf.FixedLenFeature([],tf.int64),\n",
    "        })\n",
    "    \n",
    "    image = tf.decode_raw(features['image_raw'],tf.uint8)\n",
    "    image.set_shape([784]) #image shape is (784,)\n",
    "    image = tf.cast(image,tf.float32)*(1.0/255)\n",
    "    label = tf.cast(features['label'],tf.int32)\n",
    "    \n",
    "    return image,label\n",
    "\n",
    "def input_fn(filename,batch_size=100):\n",
    "    filename_queue = tf.train.string_input_producer([filename])\n",
    "    \n",
    "    image,label = read_and_decode(filename_queue)\n",
    "    images,labels = tf.train.batch(\n",
    "        [image,label],batch_size=batch_size,\n",
    "        capacity=1000+3*batch_size)\n",
    "    #images : (100,784), labels : (100,1)\n",
    "    \n",
    "    return {'inputs':images},labels\n",
    "\n",
    "def get_input_fn(filename,batch_size=100):\n",
    "    return lambda: input_fn(filename,batch_size)\n",
    "\n",
    "def serving_input_fn():\n",
    "    inputs = {'inputs':tf.placeholder(tf.float32,[None,784])}\n",
    "    return tf.estimator.export.ServingInputReceiver(inputs,inputs)\n",
    "\n",
    "#\n",
    "# define model\n",
    "#\n",
    "def autoencoder_model_fn(features,labels,mode):\n",
    "    input_layer = features['inputs']\n",
    "    dense1 = tf.layers.dense(inputs=input_layer,units=256,activation=tf.nn.relu)\n",
    "    dense2 = tf.layers.dense(inputs=dense1,units=128,activation=tf.nn.relu)\n",
    "    dense3 = tf.layers.dense(inputs=dense2,units=16,activation=tf.nn.relu)\n",
    "    dense4 = tf.layers.dense(inputs=dense3,units=128,activation=tf.nn.relu)\n",
    "    dense5 = tf.layers.dense(inputs=dense4,units=256,activation=tf.nn.relu)\n",
    "    output_layer = tf.layers.dense(inputs=dense5,units=784,activation=tf.nn.sigmoid)\n",
    "    \n",
    "    #training and evaluation mode\n",
    "    if mode in (Modes.TRAIN,Modes.EVAL):\n",
    "        global_step = tf.contrib.framework.get_or_create_global_step()\n",
    "        label_indices = tf.cast(labels,tf.int32)\n",
    "        loss = tf.reduce_sum(tf.square(output_layer - input_layer))\n",
    "        tf.summary.scalar('OptimizeLoss',loss)\n",
    "\n",
    "        if mode == Modes.TRAIN:\n",
    "            optimizer = tf.train.AdamOptimizer(learning_rate=0.001)\n",
    "            train_op = optimizer.minimize(loss,global_step=global_step)\n",
    "            return tf.estimator.EstimatorSpec(mode,loss = loss, train_op = train_op)\n",
    "        if mode == Modes.EVAL:\n",
    "            eval_metric_ops = None\n",
    "            return tf.estimator.EstimatorSpec(\n",
    "                mode,loss=loss,eval_metric_ops = eval_metric_ops)\n",
    "        \n",
    "    # prediction mode\n",
    "    if mode == Modes.PREDICT:\n",
    "        predictions={\n",
    "            'outputs':output_layer\n",
    "        }\n",
    "        export_outputs={\n",
    "            'outputs':tf.estimator.export.PredictOutput(predictions)\n",
    "        }\n",
    "        return tf.estimator.EstimatorSpec(\n",
    "            mode,predictions=predictions,export_outputs=export_outputs) #이부분 코드 상세 조사할것\n",
    "    \n",
    "\n",
    "def build_estimator(model_dir):\n",
    "    return tf.estimator.Estimator(\n",
    "        model_fn = autoencoder_model_fn,\n",
    "        model_dir = model_dir,\n",
    "        config=tf.contrib.learn.RunConfig(save_checkpoints_secs=180))\n",
    "\n",
    "def generate_experiment_fn(data_dir,\n",
    "                          train_batch_size = 100,\n",
    "                          eval_batch_size = 100,\n",
    "                          train_steps = 1000,\n",
    "                          eval_steps = 1,\n",
    "                          **experiment_args):\n",
    "    def _experiment_fn(output_dir):\n",
    "        return Experiment(\n",
    "            build_estimator(output_dir),\n",
    "            train_input_fn=get_input_fn('./data/train.tfrecords',batch_size=train_batch_size),\n",
    "            eval_input_fn=get_input_fn('./data/test.tfrecords',batch_size=eval_batch_size),\n",
    "            export_strategies = [saved_model_export_utils.make_export_strategy(\n",
    "                serving_input_fn,\n",
    "                default_output_alternative_key=None,\n",
    "                exports_to_keep=1)\n",
    "            ],\n",
    "            train_steps = train_steps,\n",
    "            eval_steps = eval_steps,\n",
    "            **experiment_args\n",
    "        )\n",
    "    return _experiment_fn\n",
    "\n",
    "shutil.rmtree(OUTDIR, ignore_errors=True) # start fresh each time\n",
    "learn_runner.run(\n",
    "    generate_experiment_fn(\n",
    "        data_dir='./data/',\n",
    "        train_steps=2000),\n",
    "    OUTDIR)\n",
    "    "
   ]
  },
  {
   "cell_type": "markdown",
   "metadata": {},
   "source": [
    "# Load exported model"
   ]
  },
  {
   "cell_type": "code",
   "execution_count": 2,
   "metadata": {},
   "outputs": [
    {
     "name": "stdout",
     "output_type": "stream",
     "text": [
      "/tmp/trained_model/export/Servo/1508339562\n",
      "INFO:tensorflow:Restoring parameters from /tmp/trained_model/export/Servo/1508339562/variables/variables\n",
      "[u'inputs']\n",
      "[u'outputs']\n"
     ]
    }
   ],
   "source": [
    "#reset graph\n",
    "tf.reset_default_graph()\n",
    "\n",
    "export_dir = OUTDIR+'/export/Servo/'\n",
    "timestamp = os.listdir(export_dir)[0]\n",
    "export_dir = export_dir + timestamp\n",
    "print(export_dir)\n",
    "\n",
    "sess = tf.Session()\n",
    "meta_graph = tf.saved_model.loader.load(sess,[tf.saved_model.tag_constants.SERVING],export_dir)\n",
    "model_signature = meta_graph.signature_def['serving_default']\n",
    "input_signature = model_signature.inputs\n",
    "output_signature = model_signature.outputs\n",
    "\n",
    "print(input_signature.keys())\n",
    "print(output_signature.keys())\n"
   ]
  },
  {
   "cell_type": "code",
   "execution_count": 3,
   "metadata": {},
   "outputs": [
    {
     "name": "stdout",
     "output_type": "stream",
     "text": [
      "/tmp/trained_model/export/Servo/1508339562\n"
     ]
    }
   ],
   "source": [
    "\n",
    "export_dir = '{}/export/Servo/{}'.format(\n",
    "    OUTDIR, os.listdir('{}/export/Servo'.format(OUTDIR))[0]\n",
    ")\n",
    "\n",
    "print(export_dir)"
   ]
  },
  {
   "cell_type": "markdown",
   "metadata": {},
   "source": [
    "# Prediction test"
   ]
  },
  {
   "cell_type": "code",
   "execution_count": 4,
   "metadata": {},
   "outputs": [
    {
     "name": "stdout",
     "output_type": "stream",
     "text": [
      "Successfully downloaded train-images-idx3-ubyte.gz 9912422 bytes.\n",
      "Extracting /tmp/data/train-images-idx3-ubyte.gz\n",
      "Successfully downloaded train-labels-idx1-ubyte.gz 28881 bytes.\n",
      "Extracting /tmp/data/train-labels-idx1-ubyte.gz\n",
      "Successfully downloaded t10k-images-idx3-ubyte.gz 1648877 bytes.\n",
      "Extracting /tmp/data/t10k-images-idx3-ubyte.gz\n",
      "Successfully downloaded t10k-labels-idx1-ubyte.gz 4542 bytes.\n",
      "Extracting /tmp/data/t10k-labels-idx1-ubyte.gz\n"
     ]
    },
    {
     "data": {
      "image/png": "[encoded data removed]",
      "text/plain": [
       "<matplotlib.figure.Figure at 0x11e740f50>"
      ]
     },
     "metadata": {},
     "output_type": "display_data"
    }
   ],
   "source": [
    "from tensorflow.examples.tutorials.mnist import input_data\n",
    "\n",
    "mnist = input_data.read_data_sets(\"/tmp/data/\", one_hot=True)\n",
    "images, labels = mnist.test.images, mnist.test.labels\n",
    "\n",
    "feed_dict = {sess.graph.get_tensor_by_name(input_signature['inputs'].name): mnist.test.images[:10]}\n",
    "output = sess.graph.get_tensor_by_name(output_signature['outputs'].name)\n",
    "results = sess.run(output, feed_dict=feed_dict)\n",
    "\n",
    "fig = plt.figure(figsize=(4,15))\n",
    "for i in range(10):\n",
    "        subplot = fig.add_subplot(10,2,i*2+1)\n",
    "        subplot.set_xticks([])\n",
    "        subplot.set_yticks([])\n",
    "        subplot.imshow(images[i].reshape((28,28)), vmin=0, vmax=1,\n",
    "                       cmap=plt.cm.gray_r, interpolation=\"nearest\")\n",
    "        \n",
    "        subplot = fig.add_subplot(10,2,i*2+2)\n",
    "        subplot.set_xticks([])\n",
    "        subplot.set_yticks([])\n",
    "        subplot.imshow(results[i].reshape((28,28)), vmin=0, vmax=1,\n",
    "                       cmap=plt.cm.gray_r, interpolation=\"nearest\")\n",
    "\n",
    "plt.show()"
   ]
  },
  {
   "cell_type": "markdown",
   "metadata": {},
   "source": [
    "# HTML based prediction tool"
   ]
  },
  {
   "cell_type": "code",
   "execution_count": 5,
   "metadata": {
    "collapsed": true
   },
   "outputs": [],
   "source": [
    "input_form = \"\"\"\n",
    "<table>\n",
    "<td style=\"border-style: none;\">\n",
    "<div style=\"border: solid 2px #666; width: 143px; height: 144px;\">\n",
    "<canvas width=\"140\" height=\"140\"></canvas>\n",
    "</div></td>\n",
    "<td style=\"border-style: none;\">\n",
    "<button onclick=\"clear_value()\">Clear</button>\n",
    "</td>\n",
    "</table>\n",
    "\"\"\"\n",
    "\n",
    "javascript = \"\"\"\n",
    "<script type=\"text/Javascript\">\n",
    "    var pixels = [];\n",
    "    for (var i = 0; i < 28*28; i++) pixels[i] = 0\n",
    "    var click = 0;\n",
    "\n",
    "    var canvas = document.querySelector(\"canvas\");\n",
    "    canvas.addEventListener(\"mousemove\", function(e){\n",
    "        if (e.buttons == 1) {\n",
    "            click = 1;\n",
    "            canvas.getContext(\"2d\").fillStyle = \"rgb(0,0,0)\";\n",
    "            canvas.getContext(\"2d\").fillRect(e.offsetX, e.offsetY, 8, 8);\n",
    "            x = Math.floor(e.offsetY * 0.2)\n",
    "            y = Math.floor(e.offsetX * 0.2) + 1\n",
    "            for (var dy = 0; dy < 2; dy++){\n",
    "                for (var dx = 0; dx < 2; dx++){\n",
    "                    if ((x + dx < 28) && (y + dy < 28)){\n",
    "                        pixels[(y+dy)+(x+dx)*28] = 1\n",
    "                    }\n",
    "                }\n",
    "            }\n",
    "        } else {\n",
    "            if (click == 1) set_value()\n",
    "            click = 0;\n",
    "        }\n",
    "    });\n",
    "    \n",
    "    function set_value(){\n",
    "        var result = \"\"\n",
    "        for (var i = 0; i < 28*28; i++) result += pixels[i] + \",\"\n",
    "        var kernel = IPython.notebook.kernel;\n",
    "        kernel.execute(\"image = [\" + result + \"]\");\n",
    "    }\n",
    "    \n",
    "    function clear_value(){\n",
    "        canvas.getContext(\"2d\").fillStyle = \"rgb(255,255,255)\";\n",
    "        canvas.getContext(\"2d\").fillRect(0, 0, 140, 140);\n",
    "        for (var i = 0; i < 28*28; i++) pixels[i] = 0\n",
    "    }\n",
    "</script>\n",
    "\"\"\""
   ]
  },
  {
   "cell_type": "code",
   "execution_count": 7,
   "metadata": {},
   "outputs": [
    {
     "data": {
      "text/html": [
       "\n",
       "<table>\n",
       "<td style=\"border-style: none;\">\n",
       "<div style=\"border: solid 2px #666; width: 143px; height: 144px;\">\n",
       "<canvas width=\"140\" height=\"140\"></canvas>\n",
       "</div></td>\n",
       "<td style=\"border-style: none;\">\n",
       "<button onclick=\"clear_value()\">Clear</button>\n",
       "</td>\n",
       "</table>\n",
       "\n",
       "<script type=\"text/Javascript\">\n",
       "    var pixels = [];\n",
       "    for (var i = 0; i < 28*28; i++) pixels[i] = 0\n",
       "    var click = 0;\n",
       "\n",
       "    var canvas = document.querySelector(\"canvas\");\n",
       "    canvas.addEventListener(\"mousemove\", function(e){\n",
       "        if (e.buttons == 1) {\n",
       "            click = 1;\n",
       "            canvas.getContext(\"2d\").fillStyle = \"rgb(0,0,0)\";\n",
       "            canvas.getContext(\"2d\").fillRect(e.offsetX, e.offsetY, 8, 8);\n",
       "            x = Math.floor(e.offsetY * 0.2)\n",
       "            y = Math.floor(e.offsetX * 0.2) + 1\n",
       "            for (var dy = 0; dy < 2; dy++){\n",
       "                for (var dx = 0; dx < 2; dx++){\n",
       "                    if ((x + dx < 28) && (y + dy < 28)){\n",
       "                        pixels[(y+dy)+(x+dx)*28] = 1\n",
       "                    }\n",
       "                }\n",
       "            }\n",
       "        } else {\n",
       "            if (click == 1) set_value()\n",
       "            click = 0;\n",
       "        }\n",
       "    });\n",
       "    \n",
       "    function set_value(){\n",
       "        var result = \"\"\n",
       "        for (var i = 0; i < 28*28; i++) result += pixels[i] + \",\"\n",
       "        var kernel = IPython.notebook.kernel;\n",
       "        kernel.execute(\"image = [\" + result + \"]\");\n",
       "    }\n",
       "    \n",
       "    function clear_value(){\n",
       "        canvas.getContext(\"2d\").fillStyle = \"rgb(255,255,255)\";\n",
       "        canvas.getContext(\"2d\").fillRect(0, 0, 140, 140);\n",
       "        for (var i = 0; i < 28*28; i++) pixels[i] = 0\n",
       "    }\n",
       "</script>\n"
      ],
      "text/plain": [
       "<IPython.core.display.HTML object>"
      ]
     },
     "execution_count": 7,
     "metadata": {},
     "output_type": "execute_result"
    }
   ],
   "source": [
    "from IPython.display import HTML\n",
    "HTML(input_form + javascript)"
   ]
  },
  {
   "cell_type": "code",
   "execution_count": 8,
   "metadata": {},
   "outputs": [
    {
     "data": {
      "image/png": "[encoded data removed]",
      "text/plain": [
       "<matplotlib.figure.Figure at 0x11c5e2210>"
      ]
     },
     "metadata": {},
     "output_type": "display_data"
    },
    {
     "name": "stdout",
     "output_type": "stream",
     "text": [
      "Differnce :41.3310029514\n"
     ]
    }
   ],
   "source": [
    "feed_dict = {sess.graph.get_tensor_by_name(input_signature['inputs'].name):[image]}\n",
    "output = sess.graph.get_tensor_by_name(output_signature['outputs'].name)\n",
    "results = sess.run(output, feed_dict=feed_dict)\n",
    "\n",
    "fig = plt.figure(figsize=(6,3))\n",
    "\n",
    "subplot = fig.add_subplot(1,2,1)\n",
    "subplot.set_xticks([])\n",
    "subplot.set_yticks([])\n",
    "subplot.imshow(np.array(image).reshape((28,28)), vmin=0, vmax=1,\n",
    "                       cmap=plt.cm.gray_r, interpolation=\"nearest\")\n",
    "        \n",
    "subplot = fig.add_subplot(1,2,2)\n",
    "subplot.set_xticks([])\n",
    "subplot.set_yticks([])\n",
    "subplot.imshow(results[0].reshape((28,28)), vmin=0, vmax=1,\n",
    "                       cmap=plt.cm.gray_r, interpolation=\"nearest\")\n",
    "\n",
    "plt.show()\n",
    "\n",
    "loss = tf.reduce_sum(tf.square(results[0] - image))\n",
    "loss_val = sess.run(loss)\n",
    "print(\"Differnce :\"+str(loss_val))"
   ]
  }
 ],
 "metadata": {
  "kernelspec": {
   "display_name": "Python [conda env:tensorflow13]",
   "language": "python",
   "name": "conda-env-tensorflow13-py"
  },
  "language_info": {
   "codemirror_mode": {
    "name": "ipython",
    "version": 2
   },
   "file_extension": ".py",
   "mimetype": "text/x-python",
   "name": "python",
   "nbconvert_exporter": "python",
   "pygments_lexer": "ipython2",
   "version": "2.7.13"
  }
 },
 "nbformat": 4,
 "nbformat_minor": 2
}
