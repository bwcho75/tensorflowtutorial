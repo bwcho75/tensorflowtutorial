{
 "cells": [
  {
   "cell_type": "code",
   "execution_count": 3,
   "metadata": {},
   "outputs": [
    {
     "data": {
      "image/png": "[encoded data removed]",
      "text/plain": [
       "<matplotlib.figure.Figure at 0x1169db310>"
      ]
     },
     "metadata": {},
     "output_type": "display_data"
    }
   ],
   "source": [
    "import numpy as np\n",
    "import matplotlib.pyplot as plt\n",
    "\n",
    "num_points = 300\n",
    "vector_set = []\n",
    "\n",
    "for i in xrange(num_points):\n",
    "    if(i%2 == 0):\n",
    "        x1 = np.random.normal(0,2) + 5\n",
    "        x2 = np.random.normal(0,5) + 10\n",
    "        vector_set.append([x1,x2,0])\n",
    "        plt.plot(x1,x2,'og')\n",
    "    else:\n",
    "        x1 = np.random.normal(0,2) + 12\n",
    "        x2 = np.random.normal(0,6) + 20\n",
    "        vector_set.append([x1,x2,1])\n",
    "        plt.plot(x1,x2,'oy')\n",
    "        \n",
    "# x_data is 300x2 matrix, y_data is 300x1 label data\n",
    "x_data = np.array([ [v[0],v[1]] for v in vector_set ])\n",
    "y_data = np.array([ [v[2]] for v in vector_set ])\n",
    "\n",
    "x_val = [[5,7],[8,11],[11,25]]\n",
    "plt.plot([ row[0] for row in x_val] , [ row[1] for row in x_val] ,'Dr' )\n",
    "\n",
    "plt.plot()\n",
    "plt.ylim([0,30])\n",
    "plt.xlim([0,30])\n",
    "plt.xlabel('x')\n",
    "plt.ylabel('y')\n",
    "plt.legend()\n",
    "plt.show()"
   ]
  },
  {
   "cell_type": "code",
   "execution_count": 9,
   "metadata": {},
   "outputs": [
    {
     "name": "stdout",
     "output_type": "stream",
     "text": [
      "(0, 19.825754)\n",
      "(5000, 0.22364835)\n",
      "(10000, 0.16019605)\n",
      "(15000, 0.13554403)\n",
      "(20000, 0.12232967)\n",
      "(25000, 0.11405943)\n",
      "(30000, 0.10838784)\n",
      "(35000, 0.10425633)\n",
      "(40000, 0.10111489)\n",
      "(45000, 0.098648928)\n",
      "(50000, 0.096664011)\n",
      "('W :', array([[ 1.01115286],\n",
      "       [ 0.10678543]], dtype=float32))\n",
      "(' b:', array([-10.2667923], dtype=float32))\n",
      "([[5, 7], [8, 11], [11, 25]], array([[ 0.01139038],\n",
      "       [ 0.2683658 ],\n",
      "       [ 0.97140539]], dtype=float32))\n"
     ]
    }
   ],
   "source": [
    "import tensorflow as tf\n",
    "\n",
    "# placeholders for a tensor that will be always fed.\n",
    "X = tf.placeholder(tf.float32, shape=[None, 2])\n",
    "Y = tf.placeholder(tf.float32, shape=[None, 1])\n",
    "\n",
    "W = tf.Variable(tf.random_normal([2, 1]), name='weight')\n",
    "b = tf.Variable(tf.random_normal([1]), name='bias')\n",
    "\n",
    "# Hypothesis using sigmoid: tf.div(1., 1. + tf.exp(tf.matmul(X, W)))\n",
    "y = tf.sigmoid(tf.matmul(X, W) + b)\n",
    "\n",
    "# cost/loss function\n",
    "cost = -tf.reduce_mean(Y * tf.log(y) + (1 - Y) *\n",
    "                       tf.log(1 - y))\n",
    "train = tf.train.GradientDescentOptimizer(learning_rate=0.01).minimize(cost)\n",
    "\n",
    "\n",
    "with tf.Session() as sess:\n",
    "    sess.run(tf.global_variables_initializer())\n",
    "\n",
    "    for step in range(50001):\n",
    "        cost_val, _ = sess.run([cost, train], feed_dict={X: x_data, Y: y_data})\n",
    "        if step % 5000 == 0:\n",
    "            print(step, cost_val)\n",
    "    w_val,b_val = sess.run([W,b])\n",
    "    \n",
    "    # predict\n",
    "\n",
    "    y_val = sess.run(y,feed_dict={X:x_val})\n",
    "\n",
    "print('W :',w_val)\n",
    "print(' b:',b_val)\n",
    "print(x_val,y_val)\n"
   ]
  },
  {
   "cell_type": "code",
   "execution_count": null,
   "metadata": {
    "collapsed": true
   },
   "outputs": [],
   "source": []
  }
 ],
 "metadata": {
  "kernelspec": {
   "display_name": "Python [conda env:tensorflow13]",
   "language": "python",
   "name": "conda-env-tensorflow13-py"
  },
  "language_info": {
   "codemirror_mode": {
    "name": "ipython",
    "version": 2
   },
   "file_extension": ".py",
   "mimetype": "text/x-python",
   "name": "python",
   "nbconvert_exporter": "python",
   "pygments_lexer": "ipython2",
   "version": "2.7.13"
  }
 },
 "nbformat": 4,
 "nbformat_minor": 2
}
